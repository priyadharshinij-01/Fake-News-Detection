{
  "nbformat": 4,
  "nbformat_minor": 0,
  "metadata": {
    "colab": {
      "provenance": []
    },
    "kernelspec": {
      "name": "python3",
      "display_name": "Python 3"
    },
    "language_info": {
      "name": "python"
    }
  },
  "cells": [
    {
      "cell_type": "code",
      "execution_count": 1,
      "metadata": {
        "id": "Kag3K9kF1c_j"
      },
      "outputs": [],
      "source": [
        "import numpy as np\n",
        "import pandas as pd\n",
        "import re\n",
        "from nltk.corpus import stopwords\n",
        "from nltk.stem.porter import PorterStemmer\n",
        "from sklearn.feature_extraction.text import TfidfVectorizer\n",
        "from sklearn.model_selection import train_test_split\n",
        "from sklearn.linear_model import LogisticRegression\n",
        "from sklearn.metrics import accuracy_score\n"
      ]
    },
    {
      "cell_type": "code",
      "source": [
        "import nltk\n",
        "nltk.download('stopwords')"
      ],
      "metadata": {
        "colab": {
          "base_uri": "https://localhost:8080/"
        },
        "id": "KhzFBDBX2sTn",
        "outputId": "ef922456-830e-455a-c715-4c80a15684df"
      },
      "execution_count": 2,
      "outputs": [
        {
          "output_type": "stream",
          "name": "stderr",
          "text": [
            "[nltk_data] Downloading package stopwords to /root/nltk_data...\n",
            "[nltk_data]   Unzipping corpora/stopwords.zip.\n"
          ]
        },
        {
          "output_type": "execute_result",
          "data": {
            "text/plain": [
              "True"
            ]
          },
          "metadata": {},
          "execution_count": 2
        }
      ]
    },
    {
      "cell_type": "code",
      "source": [
        "print(stopwords.words('english'))\n"
      ],
      "metadata": {
        "colab": {
          "base_uri": "https://localhost:8080/"
        },
        "id": "H3F269jp2wh6",
        "outputId": "b02ecea9-163e-44b8-d631-c7e7a3e39c3d"
      },
      "execution_count": 3,
      "outputs": [
        {
          "output_type": "stream",
          "name": "stdout",
          "text": [
            "['i', 'me', 'my', 'myself', 'we', 'our', 'ours', 'ourselves', 'you', \"you're\", \"you've\", \"you'll\", \"you'd\", 'your', 'yours', 'yourself', 'yourselves', 'he', 'him', 'his', 'himself', 'she', \"she's\", 'her', 'hers', 'herself', 'it', \"it's\", 'its', 'itself', 'they', 'them', 'their', 'theirs', 'themselves', 'what', 'which', 'who', 'whom', 'this', 'that', \"that'll\", 'these', 'those', 'am', 'is', 'are', 'was', 'were', 'be', 'been', 'being', 'have', 'has', 'had', 'having', 'do', 'does', 'did', 'doing', 'a', 'an', 'the', 'and', 'but', 'if', 'or', 'because', 'as', 'until', 'while', 'of', 'at', 'by', 'for', 'with', 'about', 'against', 'between', 'into', 'through', 'during', 'before', 'after', 'above', 'below', 'to', 'from', 'up', 'down', 'in', 'out', 'on', 'off', 'over', 'under', 'again', 'further', 'then', 'once', 'here', 'there', 'when', 'where', 'why', 'how', 'all', 'any', 'both', 'each', 'few', 'more', 'most', 'other', 'some', 'such', 'no', 'nor', 'not', 'only', 'own', 'same', 'so', 'than', 'too', 'very', 's', 't', 'can', 'will', 'just', 'don', \"don't\", 'should', \"should've\", 'now', 'd', 'll', 'm', 'o', 're', 've', 'y', 'ain', 'aren', \"aren't\", 'couldn', \"couldn't\", 'didn', \"didn't\", 'doesn', \"doesn't\", 'hadn', \"hadn't\", 'hasn', \"hasn't\", 'haven', \"haven't\", 'isn', \"isn't\", 'ma', 'mightn', \"mightn't\", 'mustn', \"mustn't\", 'needn', \"needn't\", 'shan', \"shan't\", 'shouldn', \"shouldn't\", 'wasn', \"wasn't\", 'weren', \"weren't\", 'won', \"won't\", 'wouldn', \"wouldn't\"]\n"
          ]
        }
      ]
    },
    {
      "cell_type": "code",
      "source": [
        "news_dataset = pd.read_csv('/content/fake_and_real_news_dataset.csv')\n"
      ],
      "metadata": {
        "id": "oFUb6ykK209b"
      },
      "execution_count": 4,
      "outputs": []
    },
    {
      "cell_type": "code",
      "source": [
        "news_dataset.shape"
      ],
      "metadata": {
        "colab": {
          "base_uri": "https://localhost:8080/"
        },
        "id": "Mb-TUoz927In",
        "outputId": "c3ba334c-fe9c-488a-ebdb-396f515fe184"
      },
      "execution_count": 5,
      "outputs": [
        {
          "output_type": "execute_result",
          "data": {
            "text/plain": [
              "(4594, 4)"
            ]
          },
          "metadata": {},
          "execution_count": 5
        }
      ]
    },
    {
      "cell_type": "code",
      "source": [
        "news_dataset.head()\n"
      ],
      "metadata": {
        "colab": {
          "base_uri": "https://localhost:8080/",
          "height": 250
        },
        "id": "PZynYYqg2_Ka",
        "outputId": "b067c9dd-bc12-46c5-825a-99972c69ab04"
      },
      "execution_count": 6,
      "outputs": [
        {
          "output_type": "execute_result",
          "data": {
            "text/plain": [
              "          idd                                              title  \\\n",
              "0  Fq+C96tcx+  ‘A target on Roe v. Wade ’: Oklahoma bill maki...   \n",
              "1  bHUqK!pgmv  Study: women had to drive 4 times farther afte...   \n",
              "2  4Y4Ubf%aTi        Trump, Clinton clash in dueling DC speeches   \n",
              "3  _CoY89SJ@K  Grand jury in Texas indicts activists behind P...   \n",
              "4  +rJHoRQVLe  As Reproductive Rights Hang In The Balance, De...   \n",
              "\n",
              "                                                text label  \n",
              "0  UPDATE: Gov. Fallin vetoed the bill on Friday....  REAL  \n",
              "1  Ever since Texas laws closed about half of the...  REAL  \n",
              "2  Donald Trump and Hillary Clinton, now at the s...  REAL  \n",
              "3  A Houston grand jury investigating criminal al...  REAL  \n",
              "4  WASHINGTON -- Forty-three years after the Supr...  REAL  "
            ],
            "text/html": [
              "\n",
              "  <div id=\"df-9f72109a-ce51-4e2b-ac1a-da83eff97e1a\">\n",
              "    <div class=\"colab-df-container\">\n",
              "      <div>\n",
              "<style scoped>\n",
              "    .dataframe tbody tr th:only-of-type {\n",
              "        vertical-align: middle;\n",
              "    }\n",
              "\n",
              "    .dataframe tbody tr th {\n",
              "        vertical-align: top;\n",
              "    }\n",
              "\n",
              "    .dataframe thead th {\n",
              "        text-align: right;\n",
              "    }\n",
              "</style>\n",
              "<table border=\"1\" class=\"dataframe\">\n",
              "  <thead>\n",
              "    <tr style=\"text-align: right;\">\n",
              "      <th></th>\n",
              "      <th>idd</th>\n",
              "      <th>title</th>\n",
              "      <th>text</th>\n",
              "      <th>label</th>\n",
              "    </tr>\n",
              "  </thead>\n",
              "  <tbody>\n",
              "    <tr>\n",
              "      <th>0</th>\n",
              "      <td>Fq+C96tcx+</td>\n",
              "      <td>‘A target on Roe v. Wade ’: Oklahoma bill maki...</td>\n",
              "      <td>UPDATE: Gov. Fallin vetoed the bill on Friday....</td>\n",
              "      <td>REAL</td>\n",
              "    </tr>\n",
              "    <tr>\n",
              "      <th>1</th>\n",
              "      <td>bHUqK!pgmv</td>\n",
              "      <td>Study: women had to drive 4 times farther afte...</td>\n",
              "      <td>Ever since Texas laws closed about half of the...</td>\n",
              "      <td>REAL</td>\n",
              "    </tr>\n",
              "    <tr>\n",
              "      <th>2</th>\n",
              "      <td>4Y4Ubf%aTi</td>\n",
              "      <td>Trump, Clinton clash in dueling DC speeches</td>\n",
              "      <td>Donald Trump and Hillary Clinton, now at the s...</td>\n",
              "      <td>REAL</td>\n",
              "    </tr>\n",
              "    <tr>\n",
              "      <th>3</th>\n",
              "      <td>_CoY89SJ@K</td>\n",
              "      <td>Grand jury in Texas indicts activists behind P...</td>\n",
              "      <td>A Houston grand jury investigating criminal al...</td>\n",
              "      <td>REAL</td>\n",
              "    </tr>\n",
              "    <tr>\n",
              "      <th>4</th>\n",
              "      <td>+rJHoRQVLe</td>\n",
              "      <td>As Reproductive Rights Hang In The Balance, De...</td>\n",
              "      <td>WASHINGTON -- Forty-three years after the Supr...</td>\n",
              "      <td>REAL</td>\n",
              "    </tr>\n",
              "  </tbody>\n",
              "</table>\n",
              "</div>\n",
              "      <button class=\"colab-df-convert\" onclick=\"convertToInteractive('df-9f72109a-ce51-4e2b-ac1a-da83eff97e1a')\"\n",
              "              title=\"Convert this dataframe to an interactive table.\"\n",
              "              style=\"display:none;\">\n",
              "        \n",
              "  <svg xmlns=\"http://www.w3.org/2000/svg\" height=\"24px\"viewBox=\"0 0 24 24\"\n",
              "       width=\"24px\">\n",
              "    <path d=\"M0 0h24v24H0V0z\" fill=\"none\"/>\n",
              "    <path d=\"M18.56 5.44l.94 2.06.94-2.06 2.06-.94-2.06-.94-.94-2.06-.94 2.06-2.06.94zm-11 1L8.5 8.5l.94-2.06 2.06-.94-2.06-.94L8.5 2.5l-.94 2.06-2.06.94zm10 10l.94 2.06.94-2.06 2.06-.94-2.06-.94-.94-2.06-.94 2.06-2.06.94z\"/><path d=\"M17.41 7.96l-1.37-1.37c-.4-.4-.92-.59-1.43-.59-.52 0-1.04.2-1.43.59L10.3 9.45l-7.72 7.72c-.78.78-.78 2.05 0 2.83L4 21.41c.39.39.9.59 1.41.59.51 0 1.02-.2 1.41-.59l7.78-7.78 2.81-2.81c.8-.78.8-2.07 0-2.86zM5.41 20L4 18.59l7.72-7.72 1.47 1.35L5.41 20z\"/>\n",
              "  </svg>\n",
              "      </button>\n",
              "      \n",
              "  <style>\n",
              "    .colab-df-container {\n",
              "      display:flex;\n",
              "      flex-wrap:wrap;\n",
              "      gap: 12px;\n",
              "    }\n",
              "\n",
              "    .colab-df-convert {\n",
              "      background-color: #E8F0FE;\n",
              "      border: none;\n",
              "      border-radius: 50%;\n",
              "      cursor: pointer;\n",
              "      display: none;\n",
              "      fill: #1967D2;\n",
              "      height: 32px;\n",
              "      padding: 0 0 0 0;\n",
              "      width: 32px;\n",
              "    }\n",
              "\n",
              "    .colab-df-convert:hover {\n",
              "      background-color: #E2EBFA;\n",
              "      box-shadow: 0px 1px 2px rgba(60, 64, 67, 0.3), 0px 1px 3px 1px rgba(60, 64, 67, 0.15);\n",
              "      fill: #174EA6;\n",
              "    }\n",
              "\n",
              "    [theme=dark] .colab-df-convert {\n",
              "      background-color: #3B4455;\n",
              "      fill: #D2E3FC;\n",
              "    }\n",
              "\n",
              "    [theme=dark] .colab-df-convert:hover {\n",
              "      background-color: #434B5C;\n",
              "      box-shadow: 0px 1px 3px 1px rgba(0, 0, 0, 0.15);\n",
              "      filter: drop-shadow(0px 1px 2px rgba(0, 0, 0, 0.3));\n",
              "      fill: #FFFFFF;\n",
              "    }\n",
              "  </style>\n",
              "\n",
              "      <script>\n",
              "        const buttonEl =\n",
              "          document.querySelector('#df-9f72109a-ce51-4e2b-ac1a-da83eff97e1a button.colab-df-convert');\n",
              "        buttonEl.style.display =\n",
              "          google.colab.kernel.accessAllowed ? 'block' : 'none';\n",
              "\n",
              "        async function convertToInteractive(key) {\n",
              "          const element = document.querySelector('#df-9f72109a-ce51-4e2b-ac1a-da83eff97e1a');\n",
              "          const dataTable =\n",
              "            await google.colab.kernel.invokeFunction('convertToInteractive',\n",
              "                                                     [key], {});\n",
              "          if (!dataTable) return;\n",
              "\n",
              "          const docLinkHtml = 'Like what you see? Visit the ' +\n",
              "            '<a target=\"_blank\" href=https://colab.research.google.com/notebooks/data_table.ipynb>data table notebook</a>'\n",
              "            + ' to learn more about interactive tables.';\n",
              "          element.innerHTML = '';\n",
              "          dataTable['output_type'] = 'display_data';\n",
              "          await google.colab.output.renderOutput(dataTable, element);\n",
              "          const docLink = document.createElement('div');\n",
              "          docLink.innerHTML = docLinkHtml;\n",
              "          element.appendChild(docLink);\n",
              "        }\n",
              "      </script>\n",
              "    </div>\n",
              "  </div>\n",
              "  "
            ]
          },
          "metadata": {},
          "execution_count": 6
        }
      ]
    },
    {
      "cell_type": "code",
      "source": [
        "news_dataset.isnull().sum()\n"
      ],
      "metadata": {
        "colab": {
          "base_uri": "https://localhost:8080/"
        },
        "id": "Lk0apU1A3DKp",
        "outputId": "ed9b7a68-b215-451a-a463-d29edb7b79b6"
      },
      "execution_count": 7,
      "outputs": [
        {
          "output_type": "execute_result",
          "data": {
            "text/plain": [
              "idd      0\n",
              "title    1\n",
              "text     0\n",
              "label    0\n",
              "dtype: int64"
            ]
          },
          "metadata": {},
          "execution_count": 7
        }
      ]
    },
    {
      "cell_type": "code",
      "source": [
        "news_dataset = news_dataset.fillna('')\n"
      ],
      "metadata": {
        "id": "vthec_o-3IqM"
      },
      "execution_count": 8,
      "outputs": []
    },
    {
      "cell_type": "code",
      "source": [
        "news_dataset['content'] = news_dataset['text']+''+news_dataset['title']\n"
      ],
      "metadata": {
        "id": "-mU0MhqU3KOu"
      },
      "execution_count": 9,
      "outputs": []
    },
    {
      "cell_type": "code",
      "source": [
        "x = news_dataset.drop(columns='label',axis=1)\n",
        "y = news_dataset['label']"
      ],
      "metadata": {
        "id": "vfJvtfJi3Px4"
      },
      "execution_count": 10,
      "outputs": []
    },
    {
      "cell_type": "code",
      "source": [
        "print(x)\n",
        "print(y)"
      ],
      "metadata": {
        "colab": {
          "base_uri": "https://localhost:8080/"
        },
        "id": "TGZE9CND3UBz",
        "outputId": "ddd07e91-4317-4fda-ebb6-bc792267e0a4"
      },
      "execution_count": 11,
      "outputs": [
        {
          "output_type": "stream",
          "name": "stdout",
          "text": [
            "             idd                                              title  \\\n",
            "0     Fq+C96tcx+  ‘A target on Roe v. Wade ’: Oklahoma bill maki...   \n",
            "1     bHUqK!pgmv  Study: women had to drive 4 times farther afte...   \n",
            "2     4Y4Ubf%aTi        Trump, Clinton clash in dueling DC speeches   \n",
            "3     _CoY89SJ@K  Grand jury in Texas indicts activists behind P...   \n",
            "4     +rJHoRQVLe  As Reproductive Rights Hang In The Balance, De...   \n",
            "...          ...                                                ...   \n",
            "4589  ukZm6JTO#x                 Russia Calls the War Party's Bluff   \n",
            "4590  yu0xKEiapJ  Bernie Sanders: The Democratic primary gave me...   \n",
            "4591  c4Y370E_9c  Pipeline Police Strip Search Native Girl, Then...   \n",
            "4592  bBbeuCUeMH  Currency Crisis: Alasdair MacLeod On The Vexed...   \n",
            "4593  vE44sWBnd9                   Paper Tiger ISIS Digs Into Mosul   \n",
            "\n",
            "                                                   text  \\\n",
            "0     UPDATE: Gov. Fallin vetoed the bill on Friday....   \n",
            "1     Ever since Texas laws closed about half of the...   \n",
            "2     Donald Trump and Hillary Clinton, now at the s...   \n",
            "3     A Houston grand jury investigating criminal al...   \n",
            "4     WASHINGTON -- Forty-three years after the Supr...   \n",
            "...                                                 ...   \n",
            "4589  License DMCA \\nCold War 2.0 has reached unprec...   \n",
            "4590  Print \\nSen. Bernie Sanders laid out the ways ...   \n",
            "4591  As the pressure to start construction on the D...   \n",
            "4592  Tweet Home » Gold » Gold News » Currency Crisi...   \n",
            "4593  Written by Eric Margolis   As a former soldier...   \n",
            "\n",
            "                                                content  \n",
            "0     UPDATE: Gov. Fallin vetoed the bill on Friday....  \n",
            "1     Ever since Texas laws closed about half of the...  \n",
            "2     Donald Trump and Hillary Clinton, now at the s...  \n",
            "3     A Houston grand jury investigating criminal al...  \n",
            "4     WASHINGTON -- Forty-three years after the Supr...  \n",
            "...                                                 ...  \n",
            "4589  License DMCA \\nCold War 2.0 has reached unprec...  \n",
            "4590  Print \\nSen. Bernie Sanders laid out the ways ...  \n",
            "4591  As the pressure to start construction on the D...  \n",
            "4592  Tweet Home » Gold » Gold News » Currency Crisi...  \n",
            "4593  Written by Eric Margolis   As a former soldier...  \n",
            "\n",
            "[4594 rows x 4 columns]\n",
            "0       REAL\n",
            "1       REAL\n",
            "2       REAL\n",
            "3       REAL\n",
            "4       REAL\n",
            "        ... \n",
            "4589    FAKE\n",
            "4590    FAKE\n",
            "4591    FAKE\n",
            "4592    FAKE\n",
            "4593    FAKE\n",
            "Name: label, Length: 4594, dtype: object\n"
          ]
        }
      ]
    },
    {
      "cell_type": "code",
      "source": [
        "port_stem = PorterStemmer()"
      ],
      "metadata": {
        "id": "gaP4-97N3YY7"
      },
      "execution_count": 12,
      "outputs": []
    },
    {
      "cell_type": "code",
      "source": [
        "def stemming(content):\n",
        "  stemmed_content = re.sub('[^a-zA-Z]','',content)\n",
        "  stemmed_content = stemmed_content.lower()\n",
        "  stemmed_content = stemmed_content.split()\n",
        "  stemmed_content = [port_stem.stem(word) for word in stemmed_content if not word in stopwords.words('english')]\n",
        "  stemmed_content = ''.join(stemmed_content)\n",
        "  return stemmed_content"
      ],
      "metadata": {
        "id": "A83zRIPS3cNu"
      },
      "execution_count": 13,
      "outputs": []
    },
    {
      "cell_type": "code",
      "source": [
        "news_dataset['content'] = news_dataset['content'].apply(stemming)\n"
      ],
      "metadata": {
        "id": "1f1uaFmQ3fq0"
      },
      "execution_count": 14,
      "outputs": []
    },
    {
      "cell_type": "code",
      "source": [
        "print(news_dataset['content'])\n"
      ],
      "metadata": {
        "colab": {
          "base_uri": "https://localhost:8080/"
        },
        "id": "nPDlSI583uld",
        "outputId": "df5b41de-354a-42b3-ab96-ea4caf6fa0cd"
      },
      "execution_count": 15,
      "outputs": [
        {
          "output_type": "stream",
          "name": "stdout",
          "text": [
            "0       updategovfallinvetoedthebillonfridayheadherefo...\n",
            "1       eversincetexaslawsclosedabouthalfofthestatesab...\n",
            "2       donaldtrumpandhillaryclintonnowatthestartingli...\n",
            "3       ahoustongrandjuryinvestigatingcriminalallegati...\n",
            "4       washingtonfortythreeyearsafterthesupremecourte...\n",
            "                              ...                        \n",
            "4589    licensedmcacoldwarhasreachedunprecedentedhyste...\n",
            "4590    printsenberniesanderslaidoutthewayshewouldleve...\n",
            "4591    asthepressuretostartconstructiononthedakotaacc...\n",
            "4592    tweethomegoldgoldnewscurrencycrisisalasdairmac...\n",
            "4593    writtenbyericmargolisasaformersoldierandwarcor...\n",
            "Name: content, Length: 4594, dtype: object\n"
          ]
        }
      ]
    },
    {
      "cell_type": "code",
      "source": [
        "x = news_dataset['content'].values\n",
        "y = news_dataset['label'].values\n"
      ],
      "metadata": {
        "id": "ome0nm7L3wJe"
      },
      "execution_count": 16,
      "outputs": []
    },
    {
      "cell_type": "code",
      "source": [
        "print(x)\n"
      ],
      "metadata": {
        "colab": {
          "base_uri": "https://localhost:8080/"
        },
        "id": "7f_ywzo631Qk",
        "outputId": "2d4058bd-3aec-4f7d-a45f-b1b0a8e3f023"
      },
      "execution_count": 17,
      "outputs": [
        {
          "output_type": "stream",
          "name": "stdout",
          "text": [
            "['updategovfallinvetoedthebillonfridayheadhereformorelawmakersinoklahomaapprovedabillthursdaythatwouldmakeperformingabortionsafelonyandrevokethemedicallicensesofmostphysicianswhoassistinsuchproceduresthissweepingmeasurewhichopponentsdescribedasunconstitutionalandunprecedentednowheadstogovmaryfallinrshewillhavefivedaysnotincludingsundaytodecidewhethertosignthebillvetoitorallowittobecomelawwithouthersignatureaccordingtoaspokesmanthegovernorwillwithholdcommentonthatbillasshedoesonmostbillsuntilsheandherstaffhavehadachancetoreviewitmichaelmcnuttaspokesmanforfallinsaidinanemailtheoklahomabillisthefirstsuchmeasureofitskindaccordingtothecenterforreproductiverightswhichsaysthatotherstatesseekingtobanabortionhavesimplybannedtheprocedureratherthanattachingpenaltieslikethisaccordingtothemeasureknownassbapersonwhoperformsorinducesanabortionwillbeguiltyofafelonyandpunishedwithbetweenoneandthreeyearsinthestatepenitentiarythislegislationalsosaysthatanyphysicianwhoparticipatesinanabortiondeemedunprofessionalconductinthebillwillbeprohibitedfromobtainingorrenewingalicensetopracticemedicineinthisstatehowevermedicallicenseswillnotbestrippedfromdoctorswhoperformabortionsdeemednecessarytosavethemotherslifeyeshospitalsperformabortionsthisdcdoctorsaysherhospitalwontlethertalkaboutitthebillpassedtheoklahomahouseofrepresentativeswithavoteoftolastmonthonthursdaythestatessenatepasseditwithavoteoftosinceibelievelifebeginsatconceptionitshouldbeprotectedandibelieveitsacorefunctionofstategovernmenttodefendthatlifefromthebeginningofconceptionstatesennathandahmarepublicanwhorepresentstulsacountytoldtheassociatedpressdahmsaidhehopestheoklahomameasurecouldeventuallyleadtotheoverturningofroevwadethesupremecourtdecisionthatrecognizedawomansrighttoanabortiondahmdidnotrespondtomessagesseekingcommentthursdayandfridaydawnlaguensexecutivevicepresidentofplannedparenthoodfederationofamericasaidlastmonththattheoklahomabillisabanonabortionplainandsimplethelegislationsenttofallinonthursdayisrecklessanddangerousaccordingtoilysehoguepresidentofnaralprochoiceamericathisbillputsdoctorsinthecrosshairsforprovidingwomenwiththeoptionofexercisingourfundamentalrighttodecidehowandwhentostartafamilyhoguesaidinastatementanditcreatespenaltiesfordoctorsdoingtheirjobsperformingasafeandlegalmedicalprocedurelibertycounselagroupthatrosetonationalprominencelastyeardefendingthekentuckyclerkwhorefusedtosignsamesexmarriagelicensessaidfridaythatithadhelpedsupportthelegislationinoklahomatheorganizationalsovowedtodefenditincourtthisparticularbillputsatargetonroevwadematstaverthegroupsfounderandchairmansaidinaninterviewfridayitisoklahomaslineinthesandonthesanctityofhumanlifeasstandingonthesideofprotectinginnocentchildrenstaversaidthathisgroupmetwithoklahomalawmakersbeforethelegislationwasfiledofferinglegalanalysisafterdiscussionshadbeguninthestateaboutproposingsuchameasuretheoklahomabillisthefirstofitskindstaversaidthoughhesaiditwaspossibleotherstatesmayfollowoklahomasleadthisisaboltstepintherightdirectioninmyviewstaversaiditwillbechallengedandwerepreparedtodefenditoklahomaisnttheonlystatetakingbigstepstolimitabortionstheoklahomastatemedicalassociationwhichhascalledthemeasuretroublinghassaiditwouldnottakeapositiononthelegalityofabortionaslongasthepracticeremainslegalhoweverthegroupsaiditwasopposedtolegislationthatisdesignedtointimidatephysiciansoroverridetheirmedicaljudgmentonthursdaythegroupreiteratedthatoppositioncallingitonemoreinsultingslapinthefaceofourstatesmedicalprovidersandurgingfallintovetothelegislationweareextremelydisappointedintodaysvotesherribakerpresidentofthemedicalassociationsaidinastatementthursdayitissimplyunconscionablethatatatimewhenourstatealreadyfacesaseverephysicianshortagethesenatewouldwasteitstimeonabillthatispatentlyunconstitutionalandwhoseonlypurposesaretoscorepoliticalpointsandintimidatephysiciansacrossthisstatewhenthemeasurewasdebatedinthestateshouseofrepresentativesalegislatorwhoultimatelyvotedagainstthebillpointedtothegroupsoppositionandvoicedconcernsthatthelawcouldleadtodoctorsabandoningoklahomabutoneofthebillscosponsorssaidhedidnotthinkitwouldhaveanimpactsincetakingofficeinfallinhassignedmorethanadozenbillsrestrictingaccesstoreproductivehealthcarethecenterforreproductiverightsanonprofitlegalgroupsaidthursdaythenewbillisblatantlyunconstitutionalandifittakeseffectitwillbethemostextremeabortionlawinthiscountrysincetheroevwadedecisionamandaallenseniorstatelegislativecounselatthecenterwroteinalettertofallinonthursdayallensaidhergroupwasurgingfallintovetothelegislationwhichshesaidwaspartofalargerpatternoflawmakersinthestatechippingawayatabortionrightspolicymakersinoklahomashouldfocusonadvancingpoliciesthatwilltrulypromotewomenshealthandsafetynotabortionrestrictionsthatdojusttheoppositeallenwroteantichoicepoliticiansinthestatehavemethodicallyrestrictedaccesstoabortionandneglectedtoadvancepoliciesthattrulyaddressthechallengeswomenandfamiliesfaceeverydayallenalsosaidthatthebillwouldalmostcertainlyleadtoexpensivecourtchallengesthatthestateofoklahomasimplycannotdefendinlightoflongstandingsupremecourtprecedentfallinhasuntilnextweektomakeadecisiononthebillifthismeasuredoesbecomelawitwouldgointoeffectonnovtheforgottenhistoryofjusticeginsburgscriticismofroevwadeindianabannedabortionsiffetuseshavedownsyndromethisstoryfirstpublishedonthursdayhasbeenupdatedonfridaytoincludelibertycounselscommentsatargetonroevwadeoklahomabillmakingitafelonytoperformabortionswaitsforgovernorsdecis'\n",
            " 'eversincetexaslawsclosedabouthalfofthestatesabortionclinicsinresearchershavebeentryingtounderstandjusthowmuchburdenthoselawsplaceonwomenwhoaretryingtoaccessabortionthatsimportantbecausethesupremecourtisnowconsideringthoselawsaspartofwholewomanshealthvhellerstedtthecourtsmostconsequentialabortioncaseindecadesifitfindsthatthelawsplaceanundueburdenonwomentheylllikelybestruckdownresearcherswiththetexaspolicyevaluationprojecttxpeplookingintoexactlythathavealreadyfoundthatsomewomenhadtowaitasmuchasthreeweekslongerforanappointmentsomewomentheyveinterviewedwerentabletosecureanabortionatallduetothelogisticalandfinancialbarriersnowtxpephaspublishedasignificantstudyintheamericanjournalofpublichealthontheeffectsofhbtheomnibusantiabortionbillthatthecourtcouldenduppartiallystrikingdownthestudyshowsjusthowmanyburdenswereplacedonwomenasaresultoftheclinicsclosedbythelawresearcherssurveyedtexaswomencomparingwomenwhosenearestabortionclinicwasclosedinmidwiththosewhosenearestclinicwasstillopeninaprilshortlybeforethetexaslegislaturedebatedhbtheresultswerestrikingofthewomensurveyedpercentlivedinazipcodewheretheclosestclinicwasopeninbutclosedinonekeyfindingwomenwhosenearestclinichadntclosedhadtotravelanaverageofmileswhilewomenwhosenearestclinichadclosedtraveledanaverageofmilesalmostfourtimesasfarandaquarterofwomeninthelattergrouphadtotravelmorethanmilestogetanabortionthiswasthecaseevensixmonthsafterhbwentintoeffectwhenabortionproviderswouldhavehadatleastsometimetoadjusttotheinitialchaosofclosureswomenwhosenearestclinicsclosedhadatoughertimebyjustabouteverymeasuretheyhadtotravelfartherandpaymoreoutofpocketforthingslikegashotelsandchildcaretheywerelesslikelytobeabletoaccessmedicationabortioninsteadofsurgicalabortioniftheywanteditprobablybecausetexaslawrequiresfourdifferentdoctorsvisitsformedicationabortionwhichisalottoughertomanagewhenyoulivefarawayunsurprisinglytheywerealsomorelikelytoreportthatitwassomewhathardorveryhardtogetcarewomenwhosenearestclinicsclosedalsofacedmoreburdensforinstancetheyweremorelikelytobothtravelmorethanmilesandspendmorethanonthetriptwentyfourpercentofwomenintheclosuregroupreportedfacingthreeormoredifferentkindsofburdenscomparedtojustpercentofwomenwhoseclinicsremainedopenandthestudyonlylookedatwomenwhoeventuallygottheirdesiredabortionsoitcouldntaccountforthewomenwhowerentabletogetoneatallbecausetheburdensweretoohighthisstudyisunusualinitsabilitytoassessmultipleburdensimposedonwomenasaresultofclinicclosuresbutitisimportanttonotethattheburdensdocumentedherearenottheonlyhardshipsthatwomenexperiencedasaresultofhbsaidstudyauthorlizafuentesinastatementstrangelytherewasnosignificantdifferencebetweenthetwogroupsofwomeninhowfaralongtheywereintheirpregnancywhentheyhadanabortionthatsinconsistentwithothertxpepresearchthatfoundafterhbpassedasmallbutsignificantincreaseinsecondtrimesterabortionprocedureswhicharenotquiteassafeandalotmoreexpensivecomparedtothefirsttrimesterproceduresbutthatcouldbeexplainedbyacoupleofthingstheresearcherswroteeitherthelongwaittimesforcedbyhbareaffectingeveryoneequallyorthedifferencesweretoosmalltoshowupinthisstudyitsstillcleartheresearcherssaidthattheclinicclosuresafterhbpassedresultedinsignificantburdensforwomenabletoobtaincarestudywomenhadtodrivetimesfartheraftertexaslawsclosedabortionclin'\n",
            " 'donaldtrumpandhillaryclintonnowatthestartinglineofageneralelectionracetradedshotsacrossthecapitalfridayinduelingaddressesbeforetwoverydifferentdcaudienceseachwarningtheotherwouldtakethecountrybackwardtrumpheadlinedthefaithandfreedomcoalitionsroadtomajoritysummitwhileclintonaddressedaplannedparenthoodnationalconferencetrumplookingtosolidifyhisstandingwithevangelicalchristiansofferedassurancesfridaythathewouldrestorerespectforpeopleoffaithandstressedthesanctityanddignityoflifeiftherewasanydoubthewantedtothrowclintonsplannedparenthoodspeechintosharpreliefhetookonhispresumptiverivallaterinhisremarkstrumpwarnedclintonwouldappointradicaljudgeseliminatethesecondamendmentrestrictreligiousfreedomwithgovernmentmandatesandpushforfederalfundingofabortionondemandupuntilthemomentofbirthhealsocasthersupportforbringinginsyrianrefugeesasapotentialclashoffaithshillarywillbringhundredsofthousandsofrefugeesmanyofwhomhavehostilebeliefsaboutpeopleofdifferentfaithsandvalueshesaidclintonmeanwhileinherfirstspeechasthedemocraticpartyspresumptivenomineesaidatrumppresidencywouldtakethecountrybacktoatimewhenabortionwasillegalandlifefortoomanywomenandgirlswaslimitedclintonthankedthenonprofitwomenshealthgroupandabortionproviderfortheirsupportinthedemocraticprimaryraceinjanuaryplannedparenthoodbackedclintonofferingitsfirsteverprimaryendorsementinthegroupsyearhistoryclintonmadeitclearthatwomensissueswouldbeastapleofhercampaignpromisingabortionrightssupportersthatshewouldalwayshaveyourbackifelectedpresidentclintonrepeatedclaimsthattrumpwantstotakeamericabacktoatimewhenwomenhadlessopportunityandfreedomwelldonaldthosedaysareoverwearenotgoingtoletdonaldtrumporanybodyelseturnbacktheclockshetoldthecheeringcrowdbeforearrivingattheeventclintonheldaprivatemeetingatherdchomewithmassachusettssenelizabethwarrenwhohasbeenrumoredtobeaconsiderationforrunningmateechoingsomeoftheattackswarrenhasmadeinrecentdaysclintonattemptedtoelevatetheimportanceofthiselectionweareinthemiddleofaconcertedpersistentassaultonwomenshealthacrossthecountrywarnedclintonwhosaidtheelectionwasprofoundlydifferentthanpreviouselectionsinwhatisacampaigntrailstapleofhersclintonhighlightedtrumpsinsultstowardwomenandassertedthatitwouldbehardtoimaginedependingonhimtodefendthefundamentalrightsofwomentrumpmeanwhilecontinuedcallingclintoncrookedhillaryandreferredtoherongoingemailscandalhetookhertotaskonherdomesticandforeignpolicystancestrumpwasinterruptedbyprotestersattheannualgatheringofevangelicalchristianstheprotestersshoutedstophatestoptrumpandrefugeesarewelcomeheretrumpcalledthechantsalittlefreedomofspeechbutaddeditwasalsoalittlerudebutwhatcanyoudotrumpclintonclashinduelingdcspeech'\n",
            " ...\n",
            " 'asthepressuretostartconstructiononthedakotaaccesspipelineincreasessodoestheviolenceusedagainstpeacefulprotestersmanyhavenoticedthatthearmsagainsttheseindigenouspeoplepipelinepolicestripsearchnativegirlthenleavehernakedinjailovernight'\n",
            " 'tweethomegoldgoldnewscurrencycrisisalasdairmacleodonthevexedquestionofthedollarthereislittledoubtthattherapidexpansionofbothdollardenominateddebtandmonetaryquantitiessincethefinancialcrisiswillleadusintoacurrencycrisiswejustdontknowwhenandthedollarisnotalonefromalasdairmacleodallthemajorpapercurrencieshavebeenmassivelyinflatedinrecentyearswiththedollaractingastheworldsreservecurrencywherethedollargoessodoalltheotherfiatmoniesuntilthatcataclysmiceventwewatchcurrenciesbehaveinincreasinglyunexpectedseeminglyirrationalwaysthefundamentalsforjapanarenotgoodyettheyenremainsthestrongestcurrencyofthebigfourtheeurozonerisksasystemiccollapseoverwhelmedbypoliticalandfinancialheadwindsyettheeurosexchangeratehasprovedrelativelyimpervioustothisdeepuncertaintythebritisheconomyisstrongestyetsterlingistheweakestofthefourmajorsifnothingelsetodaysforeignexchangesareevidencethatsubjectivitytriumphsovermacroeconomicthinkingmackaysextraordinarypopulardelusionsandthemadnessofcrowdsbeatscomputermodellingeverytimefurthermoreanyofficialattempttoestablisharateforthedollarhastoaddresstwoseparatequestionsthevalueofthedollarrelativetoothercurrenciesanditspurchasingpowerforgoodsandservicesthechartbelowindicateshowthedollarhasbehavedagainstothercurrenciesoverthelastfiveyearsbothonatradeweightedandonapredefinedcurrencybasisdxyitshouldbenotedthatthedollarhasrisenonboththesemeasuresbyroughlysinceearlyatthesametimethechineseyuanhasfallenagainstthedollarbyaboutsoithasactuallyrisenslightlyagainstthedxybasketasawholeparticularlyagainsttheeurocomponentwhereithasgainedsinceearlythismattersbecausefarfromdevaluingwhichiswhatweareroutinelytoldbydollarcentricanalyststheyuanhasbeenrelativelystableovertimeagainstabasketofcurrenciesithasbeenweakagainstthedollarandyenbutstrongagainstboththeeuroandsterlingweshouldlookatthisfromthefedsfederalopenmarketcommitteespointofviewamericarunsarecordtradedeficitwithchinaandtheonlymajoreconomieswherechinastermsoftradehaveimprovedarewiththeusexceptingjapanthereforethefedisboundtobeverysensitivetothedollarsexchangeratewithchinasyuanfurthermoreontwooccasionswhenthefedhadsignalleditwasgoingtoraisethefedfundsrateitbackedoffwhenthechineseloweredtherateatwhichithadpeggedtheyuantothedollarchinesedevaluationagainstthedollarisobviouslyaprimeconcernforthefedthesituationbecomesbetterunderstoodwhenthepeoplesbankspositionistakenintoaccountthebankhasbeensellingustreasurystockinlargequantitiesstockpilingcommoditiesandoilwiththeproceedsthoughithasbeendiversifyingintojapanesegovernmentbondsaswellchinasdollarshavebeenwelcomedbymarketswhichareshortofbothqualitycollateralandrawcurrencyhoweverchinassupplyofbothhasfailedtostopthedollarrisingagainsttheyuanfurthermorechinaisnttheonlyasianandmiddleeasternstatesellingamericanpapersothedemandfromotherinternationalplayersonthebuysidehasbeenimmenseenoughtodeterminetheunderlyingdirectionofthedollarsexchangeratethesituationisbeingexploitedbythepeoplesbankineffectthepeoplesbankisinapositiontodictatefedpolicybyadjustingtherateatwhichitispreparedtosupplydollarsintothemarketsolongasthedollarremainsfundamentallystrongitonlyhastoslowthepaceoftreasuryanddollarsalesforthedollartoriseandthereforethefedsplannedinterestraterisestobedeferredthisisnotunderstoodproperlybywesterncommentatorswhoerroneouslythinkchinaisbeingforcedtodefendadecliningyuannothingcouldbefurtherfromthetruthitwillbeinterestingtoseewhetherthishappensagainaheadofthedecemberfomcmeetingwhenfortheumpteenthtimewehavebeenpromisedariseinthefedfundsrateamajorconsiderationbehindchinasforeignexchangepolicyistheoutlookfortheeurotheeurozonerepresentsamarketaslargeastheuswiththeaddedimportanceofbeingtaggedontotheasiancontinenttherecanbelittledoubtthatchinaseesherownlongtermfuturebeingalignedmorewitheuropethanamericadespiteeuropescurrenttroublesitisifyoulikeasituationthatisprimarilyofstrategicimportanceeuropeseconomywillneedrescuingatsomestageandisthereforeafutureopportunityforchinasinterventionthatplanisforthelongtermandbecomesincreasinglyvalidthedeepertheholetheeurozonedigsforitselfadisintegrationoftheeuwouldalsobebeneficialforchineseambitionsmeanwhileintheshorttermtheeurohasbrokenacrucialtrendlineagainstthedollarhavingcompletedacontinuationheadandshoulderspatterntargetingtheareawhichisthepreviouslowseeninmarchandnovemberthisisoursecondchartneitherthepeoplesbanknorthefedneedtobechartexpertstoseewhatshappeningbrexitwasverybadnewsfortheeurobecauseitisaracingcertaintythattheeventwillturnouttobejustthestartofanewroundofpoliticalandeconomictroublefortheeurozonetheitalianeconomyinparticularisimplodingwithanonperformingloanproblemthatisroughlyofprivatesectorgdpsochinacanforthemomentsteeracoursefortheyuanbetweentheeurosdevaluationandthedollarsrisethefedseesineuroweaknessanincreaseofcurrencyinduceddeflationfortheuseconomyandalossofcompetitivenessforusexportschineseexportersareobviousbeneficiariesaswellsotheblamefordeflationwillbeonchinasforeignexchangemachinationsanywaychinaprobablycareslessthansheeverdidaboutthelongtermconsequencesofheractionsontheuseconomychinahasbeensellingherustreasuriesandreducingherdollarexposuretoaddtoherstockpilesofrawmaterialsandoilshewantstokeepheroverindebtedbusinessestradingbymaintainingafavourableexchangeratewiththedollarparticularlygiventhedevelopingtrainwreckthatstheeurozoneandtheresnotalotthefedcandoaboutitgoldandcommoditiestheprincipaldriverforthegoldpriceistheprospectofmonetaryinflationtransmutingintopriceinflationandtheinabilityofcentralbankstorespondtothisthreatbyraisinginterestratessufficientlytocontrolthebalanceofconsumerpreferencesbetweengoodsandholdingmoneyweareofcoursemeasuringgoldindollarsbecausethelatteristhereservecurrencyforalltheothersbutasstatedabovetherearetwoexchangeconsiderationsthefirstbeingthedollaragainstothercurrenciesandthesecondthedollaragainstabasketofcommoditiesandhereweshouldnotethatoverthelongtermthepricesofcommoditiesmeasuredingoldareconsiderablymorestablethanthepricesofcommoditiesmeasuredinfiatcurrencieschinahasbehavedasifsheisthoroughlyawareofgoldspricingattributesandhasadeliberatepolicyofdominatingthemarketforbullionthisisverydifferentfromtheussdominationofgoldpapermarketsnotonlyhaschinainvestedinunprofitablegoldminestobecomethelargestproduceratabouttonnesannuallybutthestatemonopoliseschinasrefiningcapacityshealsoimportsdorforrefiningfromothercountriesandwithoutdoubtsincehasaccumulatedsubstantialquantitiesofbullionnotincludedinmonetaryreservesfurthermoreitistheonlycountrythathasencourageditspopulationthroughtelevisionandothermediatoaccumulatephysicalgoldmakenomistakeforthelastthirtythreeyearsthechinesegovernmenthasmadeacredibleattempttogainultimatecontroloverthephysicalgoldmarketandtoextendgoldsprotectiontoherowncitizenschinadoesnotmanipulatethegoldpriceinsteadasdescribedearliersheismanipulatingthedollarbyregulatingtheexchangerateandbydiscouragingthefedfromraisinginterestratesitisatemporarybalancingactthatonlycontinuessolongasdesperatebanksandtheirindebtedborrowerscontinuetoscramblefordollarsandchinaknowsitthefedforthemomentappearstobepowerlesstomanageeconomicoutcomesandisfirmlytrappedbychinascurrencymanagementwithinterestratesstuckatthelowerboundandtomakeitworsetheweakeuroagainstwhichthedollarindexdxyisveryheavilyweightedthreatenstoforcethedxyindexevenhighertheresultinevitablyisthatmonetarypolicycannotbeusedtoaddressfuturepriceinflationwhichvirtuallyguaranteestherewillbeahighergoldpriceinandbeyondthisiswhydespiteamericanwishfulthinkinggoldremainsatthecentreofthefinancialsystemitiscentralpartlybecausechinasensuresitisanditisalsochinasultimatemoneyforcommodityandtradepurposeschinamostlikelyhasenoughgoldtofullycompensateforherreservelossesfromthedestructionofthedollarandtheotherfiatcurrenciesonherreservebooksheisdeliberatelysellingdownherdollarexposureanywaywhileshecanlestweforgetcommunisteconomistsinchinaweretaughtthatcapitalismdestroysitselfforthemthereisnoclearerproofthantheperformanceoftheuseconomyandthedollarandtheydonotintendtogetcaughtupinitsdemiseunderstandthisandyouunderstandallwhilethemonetaryroleofgoldinthefuturehasyettobedeterminedbychinaanditwillbechinaorthemarketsthatmakethedecisionforthemomentitcanberegardedastheultimateinsuranceagainstglobalcurrencyfailurecurrencycrisisalasdairmacleodonthevexedquestionofthedollar'\n",
            " 'writtenbyericmargolisasaformersoldierandwarcorrespondentwhohascoveredconflictsilookatallthemediahooplaovertighteningsiegeofmosuliraqandshakemyheadthiswesternorganizedliberationofmosulisoneofthebiggerpiecesofpoliticalmilitarytheaterthativeseenislamicstateisthedefenderofmosulisapapertigerblownoutofallproportionbywesternmediaisisasthiswriterhasbeensayingforyearsanarmedmobmadeupofsomethingmalcontentsreligiousfanaticsandmoderndayanarchistsatitstopisacadreofformeriraqiarmyofficerswithmilitaryexperiencetheseformerofficersofsaddamhussainarebentonrevengefortheusdestructionoftheirnationandthelynchingofitslateleaderbutisrankandfilehasnomilitarytraininglittledisciplinedegradedcommunicationsandraggedlogisticsinfacttodaysislamicstateiswhattheottomanempireusedtotermbashibazouksacollectionofirregularcutthroatsandscumoftheguttersenttopunishandterrorizeenemiesbymeansoftorturerapinelootingandarsonwhathasamazedmeaboutthefauxwesternwaragainstisisisitsleisurelynaturelackoflanandhesitancyinmyviewisiswasmostlycreatedbytheusanditsalliesasaweapontobeusedagainstsyriasgovernmentjustastheafghanmujahadinwereusedbytheusandthesaudistooverthrowthesovietbackedafghangovernmentisraeltriedthesametacticsbyhelpingcreatehamasinpalestineandhezbollahinlebanonbothwerecultivatedtosplittheploisisisanadhocmovementthatwantstopunishthewestandthesaudisforthegrosscarnagetheyhaveinflictedonthearabworldwesternandkurdishauxiliaryforceshavebeensittinghoursdrivefrommosulandtheistownofraqqaforoverayearinsteadwesternmainlyuswarplaneshavebeengingerlybombingaroundthesetargetsinwhatmaybeanefforttoconvincebreakawayisistorejoinusledforcesfightthedamascusregimenotethatisisdoesnotappeartohaveeverattackedisraelthoughitisplayinganimportantroleinthedestructionofsyriasomereportssayisraelisprovidinglogisticandmedicalsupportforisthesiegeofmosulisbeingplayedupbywesternmediaasaheroicsecondstalingraddontbefooledishasonlylightlyarmedfightersinmosulandraqqamaybeevenlesstheleadersofisarelikelylonggoneishasfewheavyweaponsnoaircoveratallandpoorcommunicationsitsragtagfighterswillrunoutofammunitionsandexplosivesveryquicklyencirclingmosulareatleastwesternledsoldiersbackedbyheavyartilleryrocketbatteriestanksarmoredvehiclesandawesomeairpowerthewesternimperialforcesarecomposedoftoughkurdishpeshmergafightersiraqiarmyandspecialforcessomesyriankurdsiranianvolunteersirregularforcesandatleastuscombattroopscalledadvisorsplussmallnumbersoffrenchcanadianandbritishspecialforceshoveringinthebackgroundaresomethousandsofturkishtroopssupportedbyarmorandartilleryreadytoliberateiraqwhichwasoncepartoftheottomanempirefortheuscurrentmilitaryoperationsinsyriaandiraqaretherealizationofanimperialistsfondestdreamnativetroopsledbywhiteofficersthemodeloftheoldbritishindianrajwashingtonarmstrainedequipsandfinancedallitsnativeauxiliariestheisiscaughtinadangerousdilemmatobeapoliticalmovementitwasdelightedtocontroliraqssecondlargestcitybutasaguerillaforceitshouldnothaveholedupinanurbanareawhereitwashighlyvulnerabletoconcentratedairattackandbeingsurroundedthisiswhatshappeningrightnowinthemostlyflatfertilecrescentwithtoofewtreesgroundforcesaretotallyvulnerabletoairpowerastherecentisraelarabwarsandiraqwarshaveshowndispersionandguerillatacticsaretheonlyhopeforthosethatlackaircoverisforceswouldbestadvisetodisperseacrosstheregionandcontinuetheirhitandrunattacksotherwisetheyriskbeingdestroyedbutbeingmostlybloodymindedyoungfanaticsismaynotheedmilitarylogicandprecedentinfavorofmakingalaststandintheruinsofmosulandraqqawhenthishappenswesternleaderswillcompetetoclaimauthorshipofthefauxcrusadeagainstthepapertigerofisislewrockwellcomrelatedpapertigerisisdigsintomosul']\n"
          ]
        }
      ]
    },
    {
      "cell_type": "code",
      "source": [
        "print(y)\n"
      ],
      "metadata": {
        "colab": {
          "base_uri": "https://localhost:8080/"
        },
        "id": "9zGQ2EGx352H",
        "outputId": "45dba519-2c74-43d1-bcc8-de58d0bc6405"
      },
      "execution_count": 18,
      "outputs": [
        {
          "output_type": "stream",
          "name": "stdout",
          "text": [
            "['REAL' 'REAL' 'REAL' ... 'FAKE' 'FAKE' 'FAKE']\n"
          ]
        }
      ]
    },
    {
      "cell_type": "code",
      "source": [
        "y.shape\n"
      ],
      "metadata": {
        "colab": {
          "base_uri": "https://localhost:8080/"
        },
        "id": "ZmDscijP39tg",
        "outputId": "740e6425-82d7-4f58-829f-058adb923114"
      },
      "execution_count": 19,
      "outputs": [
        {
          "output_type": "execute_result",
          "data": {
            "text/plain": [
              "(4594,)"
            ]
          },
          "metadata": {},
          "execution_count": 19
        }
      ]
    },
    {
      "cell_type": "code",
      "source": [
        "vectorizer = TfidfVectorizer()\n",
        "vectorizer.fit(x)\n",
        "x = vectorizer.transform(x)\n"
      ],
      "metadata": {
        "id": "dcFoOJFb4Bpk"
      },
      "execution_count": 20,
      "outputs": []
    },
    {
      "cell_type": "code",
      "source": [
        "print(x)\n"
      ],
      "metadata": {
        "colab": {
          "base_uri": "https://localhost:8080/"
        },
        "id": "psRWJfsU4FqS",
        "outputId": "13959799-d828-4834-da5f-894160e15595"
      },
      "execution_count": 21,
      "outputs": [
        {
          "output_type": "stream",
          "name": "stdout",
          "text": [
            "  (0, 4051)\t1.0\n",
            "  (1, 1312)\t1.0\n",
            "  (2, 993)\t1.0\n",
            "  (3, 101)\t1.0\n",
            "  (4, 4242)\t1.0\n",
            "  (5, 4218)\t1.0\n",
            "  (6, 1100)\t1.0\n",
            "  (7, 4510)\t1.0\n",
            "  (8, 3503)\t1.0\n",
            "  (9, 1423)\t1.0\n",
            "  (10, 3299)\t1.0\n",
            "  (11, 3726)\t1.0\n",
            "  (12, 715)\t1.0\n",
            "  (13, 660)\t1.0\n",
            "  (14, 4227)\t1.0\n",
            "  (15, 2398)\t1.0\n",
            "  (16, 2516)\t1.0\n",
            "  (17, 210)\t1.0\n",
            "  (18, 4428)\t1.0\n",
            "  (19, 43)\t1.0\n",
            "  (20, 3484)\t1.0\n",
            "  (21, 3445)\t1.0\n",
            "  (22, 3311)\t1.0\n",
            "  (23, 4372)\t1.0\n",
            "  (24, 131)\t1.0\n",
            "  :\t:\n",
            "  (4569, 1356)\t1.0\n",
            "  (4570, 419)\t1.0\n",
            "  (4571, 663)\t1.0\n",
            "  (4572, 2996)\t1.0\n",
            "  (4573, 3052)\t1.0\n",
            "  (4574, 2432)\t1.0\n",
            "  (4575, 3304)\t1.0\n",
            "  (4576, 4301)\t1.0\n",
            "  (4577, 1469)\t1.0\n",
            "  (4578, 1810)\t1.0\n",
            "  (4579, 230)\t1.0\n",
            "  (4580, 1453)\t1.0\n",
            "  (4581, 3897)\t1.0\n",
            "  (4582, 3879)\t1.0\n",
            "  (4583, 1497)\t1.0\n",
            "  (4584, 4118)\t1.0\n",
            "  (4585, 4274)\t1.0\n",
            "  (4586, 3477)\t1.0\n",
            "  (4587, 2213)\t1.0\n",
            "  (4588, 3404)\t1.0\n",
            "  (4589, 2248)\t1.0\n",
            "  (4590, 2982)\t1.0\n",
            "  (4591, 286)\t1.0\n",
            "  (4592, 4012)\t1.0\n",
            "  (4593, 4520)\t1.0\n"
          ]
        }
      ]
    },
    {
      "cell_type": "code",
      "source": [
        "x_train,x_test,y_train,y_test = train_test_split(x,y,test_size = 0.2,stratify=y,random_state=2)\n"
      ],
      "metadata": {
        "id": "fNd6FUPV4Ieq"
      },
      "execution_count": 22,
      "outputs": []
    },
    {
      "cell_type": "code",
      "source": [
        "model = LogisticRegression()\n"
      ],
      "metadata": {
        "id": "UJfEk8IQ4Mhl"
      },
      "execution_count": 23,
      "outputs": []
    },
    {
      "cell_type": "code",
      "source": [
        "model.fit(x_train,y_train)"
      ],
      "metadata": {
        "colab": {
          "base_uri": "https://localhost:8080/",
          "height": 74
        },
        "id": "_GpWiUbv4RfH",
        "outputId": "1f09eda5-9594-4336-fdce-24aea12e413e"
      },
      "execution_count": 24,
      "outputs": [
        {
          "output_type": "execute_result",
          "data": {
            "text/plain": [
              "LogisticRegression()"
            ],
            "text/html": [
              "<style>#sk-container-id-1 {color: black;background-color: white;}#sk-container-id-1 pre{padding: 0;}#sk-container-id-1 div.sk-toggleable {background-color: white;}#sk-container-id-1 label.sk-toggleable__label {cursor: pointer;display: block;width: 100%;margin-bottom: 0;padding: 0.3em;box-sizing: border-box;text-align: center;}#sk-container-id-1 label.sk-toggleable__label-arrow:before {content: \"▸\";float: left;margin-right: 0.25em;color: #696969;}#sk-container-id-1 label.sk-toggleable__label-arrow:hover:before {color: black;}#sk-container-id-1 div.sk-estimator:hover label.sk-toggleable__label-arrow:before {color: black;}#sk-container-id-1 div.sk-toggleable__content {max-height: 0;max-width: 0;overflow: hidden;text-align: left;background-color: #f0f8ff;}#sk-container-id-1 div.sk-toggleable__content pre {margin: 0.2em;color: black;border-radius: 0.25em;background-color: #f0f8ff;}#sk-container-id-1 input.sk-toggleable__control:checked~div.sk-toggleable__content {max-height: 200px;max-width: 100%;overflow: auto;}#sk-container-id-1 input.sk-toggleable__control:checked~label.sk-toggleable__label-arrow:before {content: \"▾\";}#sk-container-id-1 div.sk-estimator input.sk-toggleable__control:checked~label.sk-toggleable__label {background-color: #d4ebff;}#sk-container-id-1 div.sk-label input.sk-toggleable__control:checked~label.sk-toggleable__label {background-color: #d4ebff;}#sk-container-id-1 input.sk-hidden--visually {border: 0;clip: rect(1px 1px 1px 1px);clip: rect(1px, 1px, 1px, 1px);height: 1px;margin: -1px;overflow: hidden;padding: 0;position: absolute;width: 1px;}#sk-container-id-1 div.sk-estimator {font-family: monospace;background-color: #f0f8ff;border: 1px dotted black;border-radius: 0.25em;box-sizing: border-box;margin-bottom: 0.5em;}#sk-container-id-1 div.sk-estimator:hover {background-color: #d4ebff;}#sk-container-id-1 div.sk-parallel-item::after {content: \"\";width: 100%;border-bottom: 1px solid gray;flex-grow: 1;}#sk-container-id-1 div.sk-label:hover label.sk-toggleable__label {background-color: #d4ebff;}#sk-container-id-1 div.sk-serial::before {content: \"\";position: absolute;border-left: 1px solid gray;box-sizing: border-box;top: 0;bottom: 0;left: 50%;z-index: 0;}#sk-container-id-1 div.sk-serial {display: flex;flex-direction: column;align-items: center;background-color: white;padding-right: 0.2em;padding-left: 0.2em;position: relative;}#sk-container-id-1 div.sk-item {position: relative;z-index: 1;}#sk-container-id-1 div.sk-parallel {display: flex;align-items: stretch;justify-content: center;background-color: white;position: relative;}#sk-container-id-1 div.sk-item::before, #sk-container-id-1 div.sk-parallel-item::before {content: \"\";position: absolute;border-left: 1px solid gray;box-sizing: border-box;top: 0;bottom: 0;left: 50%;z-index: -1;}#sk-container-id-1 div.sk-parallel-item {display: flex;flex-direction: column;z-index: 1;position: relative;background-color: white;}#sk-container-id-1 div.sk-parallel-item:first-child::after {align-self: flex-end;width: 50%;}#sk-container-id-1 div.sk-parallel-item:last-child::after {align-self: flex-start;width: 50%;}#sk-container-id-1 div.sk-parallel-item:only-child::after {width: 0;}#sk-container-id-1 div.sk-dashed-wrapped {border: 1px dashed gray;margin: 0 0.4em 0.5em 0.4em;box-sizing: border-box;padding-bottom: 0.4em;background-color: white;}#sk-container-id-1 div.sk-label label {font-family: monospace;font-weight: bold;display: inline-block;line-height: 1.2em;}#sk-container-id-1 div.sk-label-container {text-align: center;}#sk-container-id-1 div.sk-container {/* jupyter's `normalize.less` sets `[hidden] { display: none; }` but bootstrap.min.css set `[hidden] { display: none !important; }` so we also need the `!important` here to be able to override the default hidden behavior on the sphinx rendered scikit-learn.org. See: https://github.com/scikit-learn/scikit-learn/issues/21755 */display: inline-block !important;position: relative;}#sk-container-id-1 div.sk-text-repr-fallback {display: none;}</style><div id=\"sk-container-id-1\" class=\"sk-top-container\"><div class=\"sk-text-repr-fallback\"><pre>LogisticRegression()</pre><b>In a Jupyter environment, please rerun this cell to show the HTML representation or trust the notebook. <br />On GitHub, the HTML representation is unable to render, please try loading this page with nbviewer.org.</b></div><div class=\"sk-container\" hidden><div class=\"sk-item\"><div class=\"sk-estimator sk-toggleable\"><input class=\"sk-toggleable__control sk-hidden--visually\" id=\"sk-estimator-id-1\" type=\"checkbox\" checked><label for=\"sk-estimator-id-1\" class=\"sk-toggleable__label sk-toggleable__label-arrow\">LogisticRegression</label><div class=\"sk-toggleable__content\"><pre>LogisticRegression()</pre></div></div></div></div></div>"
            ]
          },
          "metadata": {},
          "execution_count": 24
        }
      ]
    },
    {
      "cell_type": "code",
      "source": [
        "x_train_prediction = model.predict(x_train)\n",
        "training_data_accuracy = accuracy_score(x_train_prediction,y_train)\n",
        "\n"
      ],
      "metadata": {
        "id": "eC1rPKhT4U7x"
      },
      "execution_count": 25,
      "outputs": []
    },
    {
      "cell_type": "code",
      "source": [
        "print('Accuracy score of the training data:',training_data_accuracy)\n"
      ],
      "metadata": {
        "colab": {
          "base_uri": "https://localhost:8080/"
        },
        "id": "tNwwRHj94a_N",
        "outputId": "b0a094ac-1d52-4ffc-c038-2e8a8a30f879"
      },
      "execution_count": 26,
      "outputs": [
        {
          "output_type": "stream",
          "name": "stdout",
          "text": [
            "Accuracy score of the training data: 1.0\n"
          ]
        }
      ]
    },
    {
      "cell_type": "code",
      "source": [
        "x_test_prediction = model.predict(x_test)\n",
        "test_data_accuracy = accuracy_score(x_test_prediction,y_test)\n"
      ],
      "metadata": {
        "id": "m4PyWR-n4eVf"
      },
      "execution_count": 27,
      "outputs": []
    },
    {
      "cell_type": "code",
      "source": [
        "print('Accuracy score of the test data:',test_data_accuracy)\n"
      ],
      "metadata": {
        "colab": {
          "base_uri": "https://localhost:8080/"
        },
        "id": "3mZYNnRt4iO7",
        "outputId": "86c8973d-36af-4066-c855-dcce02aee9eb"
      },
      "execution_count": 28,
      "outputs": [
        {
          "output_type": "stream",
          "name": "stdout",
          "text": [
            "Accuracy score of the test data: 0.5048966267682263\n"
          ]
        }
      ]
    },
    {
      "cell_type": "code",
      "source": [
        "x_new = x_test[3]\n",
        "prediction = model.predict(x_new)\n",
        "print(prediction)\n",
        "if(prediction[0]==0):\n",
        "  print(' the news is real')\n",
        "else:\n",
        "  print('the news is fake')\n"
      ],
      "metadata": {
        "colab": {
          "base_uri": "https://localhost:8080/"
        },
        "id": "c9DPzzQ44mAj",
        "outputId": "9d3e083e-6556-4ad6-8aa4-653752abf047"
      },
      "execution_count": 29,
      "outputs": [
        {
          "output_type": "stream",
          "name": "stdout",
          "text": [
            "['FAKE']\n",
            "the news is fake\n"
          ]
        }
      ]
    }
  ]
}